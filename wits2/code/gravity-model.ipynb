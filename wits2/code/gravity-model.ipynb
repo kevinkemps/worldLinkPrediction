{
 "cells": [
  {
   "cell_type": "code",
   "execution_count": 5,
   "id": "higher-bones",
   "metadata": {},
   "outputs": [],
   "source": [
    "edges = read.csv('../data/2011/edgelist.csv')\n",
    "nodes = read.csv('../data/2011/nodelist.csv')"
   ]
  },
  {
   "cell_type": "code",
   "execution_count": 6,
   "id": "linear-garden",
   "metadata": {},
   "outputs": [],
   "source": [
    "nodes = transform(nodes, landlocked=as.factor(landlocked))\n",
    "n_countries = dim(nodes)[1]"
   ]
  },
  {
   "cell_type": "code",
   "execution_count": 7,
   "id": "innocent-period",
   "metadata": {},
   "outputs": [],
   "source": [
    "nodes$gdp_us_dollar <- log(nodes$gdp_us_dollar)\n",
    "nodes$area <- log(nodes$area)\n",
    "nodes$population <- log(nodes$population)\n",
    "nodes$gdp_per_capita <- log(nodes$gdp_per_capita)"
   ]
  },
  {
   "cell_type": "code",
   "execution_count": 8,
   "id": "hourly-genetics",
   "metadata": {},
   "outputs": [],
   "source": [
    "nodes$gdp_us_dollar = as.numeric(scale(nodes$gdp_us_dollar))\n",
    "nodes$gdp_growth = as.numeric(scale(nodes$gdp_growth))\n",
    "nodes$inflation_rate = as.numeric(scale(nodes$inflation_rate))\n",
    "nodes$population = as.numeric(scale(nodes$population))\n",
    "nodes$gdp_per_capita = as.numeric(scale(nodes$gdp_per_capita))\n",
    "nodes$agriculture_forestry_fishing_of_gdp = as.numeric(scale(nodes$agriculture_forestry_fishing_of_gdp))\n",
    "nodes$industry_of_gdp = as.numeric(scale(nodes$industry_of_gdp))\n",
    "nodes$merchandise_of_gdp = as.numeric(scale(nodes$merchandise_of_gdp))\n",
    "nodes$net_barter_of_trade = as.numeric(scale(nodes$net_barter_of_trade))\n",
    "nodes$foreign_direct_investment_inflows = as.numeric(scale(nodes$foreign_direct_investment_inflows))"
   ]
  },
  {
   "cell_type": "code",
   "execution_count": 9,
   "id": "designing-preserve",
   "metadata": {},
   "outputs": [],
   "source": [
    "nodes = subset(nodes, select = -c(population, area, gdp_per_capita))"
   ]
  },
  {
   "cell_type": "code",
   "execution_count": 10,
   "id": "casual-export",
   "metadata": {},
   "outputs": [
    {
     "data": {
      "text/html": [
       "<table class=\"dataframe\">\n",
       "<caption>A data.frame: 3 × 12</caption>\n",
       "<thead>\n",
       "\t<tr><th></th><th scope=col>country_iso3</th><th scope=col>foreign_direct_investment_inflows</th><th scope=col>continent</th><th scope=col>net_barter_of_trade</th><th scope=col>inflation_rate</th><th scope=col>langoff_1</th><th scope=col>gdp_growth</th><th scope=col>agriculture_forestry_fishing_of_gdp</th><th scope=col>industry_of_gdp</th><th scope=col>gdp_us_dollar</th><th scope=col>merchandise_of_gdp</th><th scope=col>landlocked</th></tr>\n",
       "\t<tr><th></th><th scope=col>&lt;chr&gt;</th><th scope=col>&lt;dbl&gt;</th><th scope=col>&lt;chr&gt;</th><th scope=col>&lt;dbl&gt;</th><th scope=col>&lt;dbl&gt;</th><th scope=col>&lt;chr&gt;</th><th scope=col>&lt;dbl&gt;</th><th scope=col>&lt;dbl&gt;</th><th scope=col>&lt;dbl&gt;</th><th scope=col>&lt;dbl&gt;</th><th scope=col>&lt;dbl&gt;</th><th scope=col>&lt;fct&gt;</th></tr>\n",
       "</thead>\n",
       "<tbody>\n",
       "\t<tr><th scope=row>1</th><td>AFG</td><td>-0.3009823</td><td>Asia  </td><td> 0.2850790</td><td> 0.9180415</td><td>Persian   </td><td>-0.52191825</td><td> 1.0662655</td><td>-0.3946306</td><td>-0.3714823</td><td>-0.8762355</td><td>1</td></tr>\n",
       "\t<tr><th scope=row>2</th><td>AGO</td><td>-0.3728506</td><td>Africa</td><td> 2.1918886</td><td> 1.1996211</td><td>Portuguese</td><td>-0.04976185</td><td>-0.4800047</td><td> 1.8415661</td><td> 0.4290518</td><td> 0.2014880</td><td>0</td></tr>\n",
       "\t<tr><th scope=row>3</th><td>ALB</td><td>-0.2776986</td><td>Europe</td><td>-0.6803136</td><td>-0.4871133</td><td>Albanian  </td><td>-0.19341918</td><td> 0.5896411</td><td>-0.2774569</td><td>-0.5121953</td><td>-0.3820768</td><td>0</td></tr>\n",
       "</tbody>\n",
       "</table>\n"
      ],
      "text/latex": [
       "A data.frame: 3 × 12\n",
       "\\begin{tabular}{r|llllllllllll}\n",
       "  & country\\_iso3 & foreign\\_direct\\_investment\\_inflows & continent & net\\_barter\\_of\\_trade & inflation\\_rate & langoff\\_1 & gdp\\_growth & agriculture\\_forestry\\_fishing\\_of\\_gdp & industry\\_of\\_gdp & gdp\\_us\\_dollar & merchandise\\_of\\_gdp & landlocked\\\\\n",
       "  & <chr> & <dbl> & <chr> & <dbl> & <dbl> & <chr> & <dbl> & <dbl> & <dbl> & <dbl> & <dbl> & <fct>\\\\\n",
       "\\hline\n",
       "\t1 & AFG & -0.3009823 & Asia   &  0.2850790 &  0.9180415 & Persian    & -0.52191825 &  1.0662655 & -0.3946306 & -0.3714823 & -0.8762355 & 1\\\\\n",
       "\t2 & AGO & -0.3728506 & Africa &  2.1918886 &  1.1996211 & Portuguese & -0.04976185 & -0.4800047 &  1.8415661 &  0.4290518 &  0.2014880 & 0\\\\\n",
       "\t3 & ALB & -0.2776986 & Europe & -0.6803136 & -0.4871133 & Albanian   & -0.19341918 &  0.5896411 & -0.2774569 & -0.5121953 & -0.3820768 & 0\\\\\n",
       "\\end{tabular}\n"
      ],
      "text/markdown": [
       "\n",
       "A data.frame: 3 × 12\n",
       "\n",
       "| <!--/--> | country_iso3 &lt;chr&gt; | foreign_direct_investment_inflows &lt;dbl&gt; | continent &lt;chr&gt; | net_barter_of_trade &lt;dbl&gt; | inflation_rate &lt;dbl&gt; | langoff_1 &lt;chr&gt; | gdp_growth &lt;dbl&gt; | agriculture_forestry_fishing_of_gdp &lt;dbl&gt; | industry_of_gdp &lt;dbl&gt; | gdp_us_dollar &lt;dbl&gt; | merchandise_of_gdp &lt;dbl&gt; | landlocked &lt;fct&gt; |\n",
       "|---|---|---|---|---|---|---|---|---|---|---|---|---|\n",
       "| 1 | AFG | -0.3009823 | Asia   |  0.2850790 |  0.9180415 | Persian    | -0.52191825 |  1.0662655 | -0.3946306 | -0.3714823 | -0.8762355 | 1 |\n",
       "| 2 | AGO | -0.3728506 | Africa |  2.1918886 |  1.1996211 | Portuguese | -0.04976185 | -0.4800047 |  1.8415661 |  0.4290518 |  0.2014880 | 0 |\n",
       "| 3 | ALB | -0.2776986 | Europe | -0.6803136 | -0.4871133 | Albanian   | -0.19341918 |  0.5896411 | -0.2774569 | -0.5121953 | -0.3820768 | 0 |\n",
       "\n"
      ],
      "text/plain": [
       "  country_iso3 foreign_direct_investment_inflows continent net_barter_of_trade\n",
       "1 AFG          -0.3009823                        Asia       0.2850790         \n",
       "2 AGO          -0.3728506                        Africa     2.1918886         \n",
       "3 ALB          -0.2776986                        Europe    -0.6803136         \n",
       "  inflation_rate langoff_1  gdp_growth  agriculture_forestry_fishing_of_gdp\n",
       "1  0.9180415     Persian    -0.52191825  1.0662655                         \n",
       "2  1.1996211     Portuguese -0.04976185 -0.4800047                         \n",
       "3 -0.4871133     Albanian   -0.19341918  0.5896411                         \n",
       "  industry_of_gdp gdp_us_dollar merchandise_of_gdp landlocked\n",
       "1 -0.3946306      -0.3714823    -0.8762355         1         \n",
       "2  1.8415661       0.4290518     0.2014880         0         \n",
       "3 -0.2774569      -0.5121953    -0.3820768         0         "
      ]
     },
     "metadata": {},
     "output_type": "display_data"
    }
   ],
   "source": [
    "head(nodes, 3)"
   ]
  },
  {
   "cell_type": "code",
   "execution_count": 11,
   "id": "measured-blast",
   "metadata": {},
   "outputs": [],
   "source": [
    "numerical_columns = colnames(nodes)[unlist(lapply(nodes, is.numeric))]\n",
    "categorical_columns = colnames(nodes)[!unlist(lapply(nodes, is.numeric))]\n",
    "categorical_columns = categorical_columns[categorical_columns != 'country_iso3']"
   ]
  },
  {
   "cell_type": "code",
   "execution_count": 12,
   "id": "competent-contrary",
   "metadata": {},
   "outputs": [],
   "source": [
    "dyads = matrix(0, nrow = n_countries, ncol = n_countries)\n",
    "nodecovs = array(\n",
    "    rep(0, length(numerical_columns)*n_countries*n_countries), \n",
    "    c(length(numerical_columns), n_countries, n_countries)\n",
    ")\n",
    "absdiffs = array(\n",
    "    rep(0, length(numerical_columns)*n_countries*n_countries), \n",
    "    c(length(numerical_columns), n_countries, n_countries)\n",
    ")\n",
    "nodematchs = array(\n",
    "    rep(0, length(categorical_columns)*n_countries*n_countries), \n",
    "    c(length(categorical_columns), n_countries, n_countries)\n",
    ")"
   ]
  },
  {
   "cell_type": "code",
   "execution_count": 13,
   "id": "solved-carolina",
   "metadata": {},
   "outputs": [],
   "source": [
    "for (i in 1:n_countries) {\n",
    "    for (j in 1:n_countries) {\n",
    "        if (sum(edges$source == nodes$country_iso3[i] & edges$target == nodes$country_iso3[j])) {\n",
    "            dyads[i, j] = 1\n",
    "        }    \n",
    "        for (k in 1:length(numerical_columns)) {\n",
    "            nodecovs[k, i, j] = nodes[i, numerical_columns[k]] + nodes[j, numerical_columns[k]]\n",
    "            absdiffs[k, i, j] = abs(nodes[i, numerical_columns[k]] - nodes[j, numerical_columns[k]])\n",
    "        }\n",
    "        for (k in 1:length(categorical_columns)) {\n",
    "            if (nodes[i, categorical_columns[k]] == nodes[j, categorical_columns[k]]) {\n",
    "                 nodematchs[k, i, j] = 1   \n",
    "            }\n",
    "        }\n",
    "    }\n",
    "}"
   ]
  },
  {
   "cell_type": "code",
   "execution_count": 14,
   "id": "french-inspiration",
   "metadata": {},
   "outputs": [],
   "source": [
    "df = data.frame(\n",
    "    edge = as.vector(t(dyads))\n",
    ")"
   ]
  },
  {
   "cell_type": "code",
   "execution_count": 11,
   "id": "hybrid-circulation",
   "metadata": {},
   "outputs": [],
   "source": [
    "for (k in 1:length(numerical_columns)) {\n",
    "    df[, paste('nodecov-',numerical_columns[k], sep = '')] = as.vector(t(nodecovs[k,,]))\n",
    "}\n",
    "for (k in 1:length(numerical_columns)) {\n",
    "    df[, paste('absdiff-',numerical_columns[k], sep = '')] = as.vector(t(absdiffs[k,,]))\n",
    "}\n",
    "for (k in 1:length(categorical_columns)) {\n",
    "    df[, paste('nodematch-',categorical_columns[k], sep = '')] = as.vector(t(nodematchs[k,,]))\n",
    "}"
   ]
  },
  {
   "cell_type": "code",
   "execution_count": 12,
   "id": "spectacular-category",
   "metadata": {},
   "outputs": [],
   "source": [
    "self_loops_indices = matrix(0, nrow = n_countries)\n",
    "for (i in 1:n_countries) {\n",
    "    self_loops_indices[i] = 1 + n_countries*(i - 1) + (i - 1)\n",
    "}"
   ]
  },
  {
   "cell_type": "code",
   "execution_count": 13,
   "id": "convinced-warehouse",
   "metadata": {},
   "outputs": [],
   "source": [
    "df = df[-self_loops_indices, ]"
   ]
  },
  {
   "cell_type": "code",
   "execution_count": 16,
   "id": "remarkable-poetry",
   "metadata": {},
   "outputs": [],
   "source": [
    "set.seed(19746)\n",
    "model = glm(edge ~ ., data = df, family = 'binomial', control=glm.control(maxit=50))"
   ]
  },
  {
   "cell_type": "code",
   "execution_count": 17,
   "id": "casual-attraction",
   "metadata": {},
   "outputs": [
    {
     "data": {
      "text/plain": [
       "\n",
       "Call:\n",
       "glm(formula = edge ~ ., family = \"binomial\", data = df, control = glm.control(maxit = 50))\n",
       "\n",
       "Coefficients:\n",
       "            Estimate Std. Error z value Pr(>|z|)    \n",
       "(Intercept) -1.99957    0.01859  -107.6   <2e-16 ***\n",
       "---\n",
       "Signif. codes:  0 '***' 0.001 '**' 0.01 '*' 0.05 '.' 0.1 ' ' 1\n",
       "\n",
       "(Dispersion parameter for binomial family taken to be 1)\n",
       "\n",
       "    Null deviance: 20139  on 27555  degrees of freedom\n",
       "Residual deviance: 20139  on 27555  degrees of freedom\n",
       "AIC: 20141\n",
       "\n",
       "Number of Fisher Scoring iterations: 4\n"
      ]
     },
     "metadata": {},
     "output_type": "display_data"
    }
   ],
   "source": [
    "summary(model)"
   ]
  },
  {
   "cell_type": "code",
   "execution_count": 18,
   "id": "atomic-ethics",
   "metadata": {},
   "outputs": [],
   "source": [
    "p_values = coef(summary(model))[,'Pr(>|z|)']\n",
    "p_values = unname(p_values)\n",
    "names = colnames(df)\n",
    "names[1] = 'intercept'"
   ]
  },
  {
   "cell_type": "code",
   "execution_count": 19,
   "id": "first-philadelphia",
   "metadata": {},
   "outputs": [],
   "source": [
    "significant_indices = which(p_values < .1)"
   ]
  },
  {
   "cell_type": "code",
   "execution_count": 20,
   "id": "resistant-testimony",
   "metadata": {},
   "outputs": [],
   "source": [
    "p_values = p_values[significant_indices]\n",
    "names = names[significant_indices]"
   ]
  },
  {
   "cell_type": "code",
   "execution_count": 21,
   "id": "familiar-specialist",
   "metadata": {},
   "outputs": [],
   "source": [
    "result_df = data.frame(\n",
    "    effect = names, \n",
    "    significance = p_values\n",
    ")"
   ]
  },
  {
   "cell_type": "code",
   "execution_count": 22,
   "id": "seventh-cleaner",
   "metadata": {},
   "outputs": [],
   "source": [
    "write.csv(result_df, '../reports/gravity_model_results.csv', row.names = F)"
   ]
  },
  {
   "cell_type": "code",
   "execution_count": null,
   "id": "b252de7d-2719-44ac-ac08-6cbfc761a6ff",
   "metadata": {},
   "outputs": [],
   "source": []
  }
 ],
 "metadata": {
  "kernelspec": {
   "display_name": "R",
   "language": "R",
   "name": "ir"
  },
  "language_info": {
   "codemirror_mode": "r",
   "file_extension": ".r",
   "mimetype": "text/x-r-source",
   "name": "R",
   "pygments_lexer": "r",
   "version": "4.4.3"
  }
 },
 "nbformat": 4,
 "nbformat_minor": 5
}
