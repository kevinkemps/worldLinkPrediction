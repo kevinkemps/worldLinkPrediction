{
 "cells": [
  {
   "cell_type": "code",
   "execution_count": 1,
   "id": "ede67a36-0051-4af4-9111-86edc3c66f14",
   "metadata": {
    "tags": []
   },
   "outputs": [
    {
     "name": "stderr",
     "output_type": "stream",
     "text": [
      "Loading required package: tergm\n",
      "\n",
      "Loading required package: ergm\n",
      "\n",
      "Loading required package: network\n",
      "\n",
      "\n",
      "'network' 1.19.0 (2024-12-08), part of the Statnet Project\n",
      "* 'news(package=\"network\")' for changes since last version\n",
      "* 'citation(\"network\")' for citation information\n",
      "* 'https://statnet.org' for help, support, and other information\n",
      "\n",
      "\n",
      "\n",
      "'ergm' 4.8.1 (2025-01-20), part of the Statnet Project\n",
      "* 'news(package=\"ergm\")' for changes since last version\n",
      "* 'citation(\"ergm\")' for citation information\n",
      "* 'https://statnet.org' for help, support, and other information\n",
      "\n",
      "\n",
      "'ergm' 4 is a major update that introduces some backwards-incompatible\n",
      "changes. Please type 'news(package=\"ergm\")' for a list of major\n",
      "changes.\n",
      "\n",
      "\n",
      "Loading required package: networkDynamic\n",
      "\n",
      "\n",
      "'networkDynamic' 0.11.5 (2024-11-21), part of the Statnet Project\n",
      "* 'news(package=\"networkDynamic\")' for changes since last version\n",
      "* 'citation(\"networkDynamic\")' for citation information\n",
      "* 'https://statnet.org' for help, support, and other information\n",
      "\n",
      "\n",
      "Registered S3 method overwritten by 'tergm':\n",
      "  method                   from\n",
      "  simulate_formula.network ergm\n",
      "\n",
      "\n",
      "'tergm' 4.2.1 (2024-10-08), part of the Statnet Project\n",
      "* 'news(package=\"tergm\")' for changes since last version\n",
      "* 'citation(\"tergm\")' for citation information\n",
      "* 'https://statnet.org' for help, support, and other information\n",
      "\n",
      "\n",
      "\n",
      "Attaching package: 'tergm'\n",
      "\n",
      "\n",
      "The following object is masked from 'package:ergm':\n",
      "\n",
      "    snctrl\n",
      "\n",
      "\n",
      "Loading required package: ergm.count\n",
      "\n",
      "\n",
      "'ergm.count' 4.1.2 (2024-06-15), part of the Statnet Project\n",
      "* 'news(package=\"ergm.count\")' for changes since last version\n",
      "* 'citation(\"ergm.count\")' for citation information\n",
      "* 'https://statnet.org' for help, support, and other information\n",
      "\n",
      "\n",
      "Loading required package: sna\n",
      "\n",
      "Loading required package: statnet.common\n",
      "\n",
      "\n",
      "Attaching package: 'statnet.common'\n",
      "\n",
      "\n",
      "The following object is masked from 'package:ergm':\n",
      "\n",
      "    snctrl\n",
      "\n",
      "\n",
      "The following objects are masked from 'package:base':\n",
      "\n",
      "    attr, order\n",
      "\n",
      "\n",
      "sna: Tools for Social Network Analysis\n",
      "Version 2.8 created on 2024-09-07.\n",
      "copyright (c) 2005, Carter T. Butts, University of California-Irvine\n",
      " For citation information, type citation(\"sna\").\n",
      " Type help(package=\"sna\") to get started.\n",
      "\n",
      "\n",
      "Loading required package: tsna\n",
      "\n",
      "\n",
      "'statnet' 2019.6 (2019-06-13), part of the Statnet Project\n",
      "* 'news(package=\"statnet\")' for changes since last version\n",
      "* 'citation(\"statnet\")' for citation information\n",
      "* 'https://statnet.org' for help, support, and other information\n",
      "\n",
      "\n",
      "Warning message:\n",
      "\"unable to access index for repository https://cran.r-project.org/src/contrib:\n",
      "  cannot open URL 'https://cran.r-project.org/src/contrib/PACKAGES'\"\n"
     ]
    }
   ],
   "source": [
    "library(statnet)\n",
    "library(stats)"
   ]
  },
  {
   "cell_type": "code",
   "execution_count": 2,
   "id": "6408effb-e82d-4b2d-b950-1ce823997088",
   "metadata": {},
   "outputs": [
    {
     "ename": "ERROR",
     "evalue": "Error: `loops` is `FALSE`, but `x` contains loops.\nThe following values are affected:\n\t- `x[1540, 1:2]`\n\t- `x[1579, 1:2]`\n",
     "output_type": "error",
     "traceback": [
      "Error: `loops` is `FALSE`, but `x` contains loops.\nThe following values are affected:\n\t- `x[1540, 1:2]`\n\t- `x[1579, 1:2]`\nTraceback:\n",
      "1. as.network(x, directed = directed, hyper = hyper, loops = loops, \n .     multiple = multiple, bipartite = bipartite, ...)",
      "2. as.network.data.frame(x, directed = directed, hyper = hyper, \n .     loops = loops, multiple = multiple, bipartite = bipartite, \n .     ...)",
      "3. .validate_edge_df(edges = x, directed = directed, hyper = hyper, \n .     loops = loops, multiple = multiple, bipartite = bipartite)",
      "4. stop(\"`loops` is `FALSE`, but `x` contains loops.\", \"\\nThe following values are affected:\", \n .     paste(\"\\n\\t-\", sprintf(\"`x[%d, 1:2]`\", .head(loop_rows))), \n .     call. = FALSE)",
      "5. .handleSimpleError(function (cnd) \n . {\n .     watcher$capture_plot_and_output()\n .     cnd <- sanitize_call(cnd)\n .     watcher$push(cnd)\n .     switch(on_error, continue = invokeRestart(\"eval_continue\"), \n .         stop = invokeRestart(\"eval_stop\"), error = NULL)\n . }, \"`loops` is `FALSE`, but `x` contains loops.\\nThe following values are affected:\\n\\t- `x[1540, 1:2]`\\n\\t- `x[1579, 1:2]`\", \n .     base::quote(NULL))"
     ]
    }
   ],
   "source": [
    "el_diplomatic = read.csv(\"../data/2011/features/dip_exhange_clean.csv\", stringsAsFactors = FALSE)\n",
    "diplomatic_exchange_net = network(el_diplomatic, directed = TRUE, matrix.type = \"edgelist\")\n",
    "diplomatic_exchange_net"
   ]
  },
  {
   "cell_type": "code",
   "execution_count": 3,
   "id": "954b4a31-1392-46e5-a418-2dd25e887ed4",
   "metadata": {},
   "outputs": [
    {
     "data": {
      "text/plain": [
       " Network attributes:\n",
       "  vertices = 174 \n",
       "  directed = TRUE \n",
       "  hyper = FALSE \n",
       "  loops = FALSE \n",
       "  multiple = FALSE \n",
       "  bipartite = FALSE \n",
       "  total edges= 30276 \n",
       "    missing edges= 0 \n",
       "    non-missing edges= 30276 \n",
       "\n",
       " Vertex attribute names: \n",
       "    vertex.names \n",
       "\n",
       " Edge attribute names not shown "
      ]
     },
     "metadata": {},
     "output_type": "display_data"
    }
   ],
   "source": [
    "el_colony = read.csv(\"../data/common/colonization_el.csv\", stringsAsFactors = FALSE)\n",
    "colony_net = network(el_colony, directed = TRUE, matrix.type = \"edgelist\")\n",
    "set.edge.value(colony_net, \"colonization\", el_colony$colonization)\n",
    "colony_net"
   ]
  },
  {
   "cell_type": "code",
   "execution_count": 4,
   "id": "c14c0ee3-2cc6-4735-b9c3-85661397e533",
   "metadata": {},
   "outputs": [],
   "source": [
    "el = read.csv(\"../data/2011/edgelist_threshold.csv\", stringsAsFactors = FALSE)\n",
    "nl = read.csv(\"../data/2011/nodelist.csv\", stringsAsFactors = FALSE)"
   ]
  },
  {
   "cell_type": "code",
   "execution_count": 5,
   "id": "11bbb5c5-1085-4acc-aae1-0b48e8a9ead5",
   "metadata": {},
   "outputs": [],
   "source": [
    "nl$gdp_us_dollar <- log(nl$gdp_us_dollar)\n",
    "nl$area <- log(nl$area)\n",
    "nl$population <- log(nl$population)\n",
    "nl$gdp_per_capita <- log(nl$gdp_per_capita)"
   ]
  },
  {
   "cell_type": "code",
   "execution_count": 6,
   "id": "7819a0aa-c2c3-4634-9955-cea7e92c3f49",
   "metadata": {},
   "outputs": [],
   "source": [
    "nl$gdp_us_dollar = as.numeric(scale(nl$gdp_us_dollar))\n",
    "nl$gdp_growth = as.numeric(scale(nl$gdp_growth))\n",
    "nl$inflation_rate = as.numeric(scale(nl$inflation_rate))\n",
    "nl$population = as.numeric(scale(nl$population))\n",
    "nl$gdp_per_capita = as.numeric(scale(nl$gdp_per_capita))\n",
    "nl$agriculture_forestry_fishing_of_gdp = as.numeric(scale(nl$agriculture_forestry_fishing_of_gdp))\n",
    "nl$industry_of_gdp = as.numeric(scale(nl$industry_of_gdp))\n",
    "nl$merchandise_of_gdp = as.numeric(scale(nl$merchandise_of_gdp))\n",
    "nl$net_barter_of_trade = as.numeric(scale(nl$net_barter_of_trade))\n",
    "nl$foreign_direct_investment_inflows = as.numeric(scale(nl$foreign_direct_investment_inflows))"
   ]
  },
  {
   "cell_type": "code",
   "execution_count": 7,
   "id": "fbc3f7eb-3740-471a-96be-4918ecd5ffc4",
   "metadata": {},
   "outputs": [
    {
     "data": {
      "text/plain": [
       " Network attributes:\n",
       "  vertices = 160 \n",
       "  directed = TRUE \n",
       "  hyper = FALSE \n",
       "  loops = FALSE \n",
       "  multiple = FALSE \n",
       "  bipartite = FALSE \n",
       "  total edges= 3594 \n",
       "    missing edges= 0 \n",
       "    non-missing edges= 3594 \n",
       "\n",
       " Vertex attribute names: \n",
       "    agriculture_forestry_fishing_of_gdp area continent country_iso3 foreign_direct_investment_inflows gdp_growth gdp_per_capita gdp_us_dollar industry_of_gdp inflation_rate landlocked langoff_1 merchandise_of_gdp net_barter_of_trade population vertex.names \n",
       "\n",
       " Edge attribute names not shown "
      ]
     },
     "metadata": {},
     "output_type": "display_data"
    }
   ],
   "source": [
    "net = network(el, directed = TRUE, matrix.type = 'edgelist', vertex.attr=nl, vertex.attrnames=colnames(nl), ignore.eval = FALSE, names.eval='trade')\n",
    "set.edge.value(net, \"trade\", el$weight)\n",
    "net"
   ]
  },
  {
   "cell_type": "code",
   "execution_count": null,
   "id": "67a966d6-dc58-4cdd-bdf7-992bd3149f33",
   "metadata": {},
   "outputs": [
    {
     "name": "stderr",
     "output_type": "stream",
     "text": [
      "Starting maximum pseudolikelihood estimation (MPLE):\n",
      "\n",
      "Evaluating the predictor and response matrix.\n",
      "\n",
      "Maximizing the pseudolikelihood.\n",
      "\n",
      "Finished MPLE.\n",
      "\n",
      "Starting Monte Carlo maximum likelihood estimation (MCMLE):\n",
      "\n",
      "Iteration 1 of at most 40:\n",
      "\n"
     ]
    }
   ],
   "source": [
    "model = ergm(\n",
    "                        net ~\n",
    "                        edges +\n",
    "                        mutual +\n",
    "                        triangles + \n",
    "                        nodecov(\"gdp_us_dollar\") + # world bank\n",
    "                        absdiff(\"gdp_us_dollar\") + # world bank\n",
    "                        nodecov(\"inflation_rate\") + # world bank\n",
    "                        absdiff(\"inflation_rate\") + # world bank\n",
    "                        nodecov(\"gdp_growth\") + # world bank\n",
    "                        absdiff(\"gdp_growth\") + # world bank\n",
    "                        nodematch(\"continent\") + # http://www.cepii.fr/CEPII/en/bdd_modele/download.asp?id=6\n",
    "                        nodematch(\"landlocked\") + # http://www.cepii.fr/CEPII/en/bdd_modele/download.asp?id=6\n",
    "                        nodematch(\"langoff_1\") + # http://www.cepii.fr/CEPII/en/bdd_modele/download.asp?id=6\n",
    "                        edgecov(diplomatic_exchange_net) + # https://pardee.du.edu/diplomatic-representation-data-set \n",
    "                        nodecov(\"agriculture_forestry_fishing_of_gdp\") + # world bank\n",
    "                        absdiff(\"agriculture_forestry_fishing_of_gdp\") + # world bank\n",
    "                        nodecov(\"industry_of_gdp\") + # world bank\n",
    "                        absdiff(\"industry_of_gdp\") + # world bank\n",
    "                        nodecov(\"merchandise_of_gdp\") + # world bank\n",
    "                        absdiff(\"merchandise_of_gdp\") + # world bank\n",
    "                        nodecov(\"net_barter_of_trade\") + # world bank\n",
    "                        absdiff(\"net_barter_of_trade\") + # world bank\n",
    "                        nodecov(\"foreign_direct_investment_inflows\") + # world bank\n",
    "                        absdiff(\"foreign_direct_investment_inflows\") + # world bank\n",
    "                        edgecov(colony_net, \"colonization\")\n",
    "                        , control = control.ergm(MCMLE.maxit = 40, MCMC.interval = 20000)\n",
    "                )"
   ]
  },
  {
   "cell_type": "code",
   "execution_count": 3,
   "id": "06340738-6cd5-409d-9855-7a9b43009c14",
   "metadata": {},
   "outputs": [
    {
     "ename": "ERROR",
     "evalue": "Error: object 'model' not found\n",
     "output_type": "error",
     "traceback": [
      "Error: object 'model' not found\nTraceback:\n",
      "1. .handleSimpleError(function (cnd) \n . {\n .     watcher$capture_plot_and_output()\n .     cnd <- sanitize_call(cnd)\n .     watcher$push(cnd)\n .     switch(on_error, continue = invokeRestart(\"eval_continue\"), \n .         stop = invokeRestart(\"eval_stop\"), error = NULL)\n . }, \"object 'model' not found\", base::quote(eval(expr, envir)))"
     ]
    }
   ],
   "source": [
    "summary(model)"
   ]
  },
  {
   "cell_type": "code",
   "execution_count": null,
   "id": "12a8768b-493b-4778-a9e0-ba6cc7e0449b",
   "metadata": {},
   "outputs": [],
   "source": [
    "gof <- gof(model ~ model + distance + dspartners + odegree + idegree + triadcensus)"
   ]
  },
  {
   "cell_type": "code",
   "execution_count": null,
   "id": "3ffe14a4-5e77-40df-b98a-56f3b366c524",
   "metadata": {
    "tags": []
   },
   "outputs": [],
   "source": [
    "gof"
   ]
  },
  {
   "cell_type": "code",
   "execution_count": null,
   "id": "33cda825-9e87-40a4-9be3-e09fa20ba309",
   "metadata": {
    "tags": []
   },
   "outputs": [],
   "source": [
    "plot(gof)"
   ]
  },
  {
   "cell_type": "code",
   "execution_count": null,
   "id": "5b30d619-abbe-49a1-9a1b-c0b6acdd646b",
   "metadata": {
    "tags": []
   },
   "outputs": [],
   "source": [
    "mcmc.diagnostics(model, which = c(\"plots\"))"
   ]
  },
  {
   "cell_type": "code",
   "execution_count": null,
   "id": "3d030de8-0570-4989-924a-20f381abda3a",
   "metadata": {},
   "outputs": [],
   "source": []
  }
 ],
 "metadata": {
  "kernelspec": {
   "display_name": "R",
   "language": "R",
   "name": "ir"
  },
  "language_info": {
   "codemirror_mode": "r",
   "file_extension": ".r",
   "mimetype": "text/x-r-source",
   "name": "R",
   "pygments_lexer": "r",
   "version": "4.4.3"
  }
 },
 "nbformat": 4,
 "nbformat_minor": 5
}
