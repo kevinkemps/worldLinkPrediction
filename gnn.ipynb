{
 "cells": [
  {
   "cell_type": "code",
   "execution_count": null,
   "id": "5701d5b1",
   "metadata": {},
   "outputs": [],
   "source": [
    "import pandas as pd\n",
    "import numpy as np\n",
    "import networkx as nx\n",
    "import torch\n",
    "import torch_geometric.transforms as T\n",
    "from torch_geometric.utils import to_networkx\n",
    "from torch_geometric.nn import GCNConv\n",
    "import torch.nn.functional as F\n",
    "from sklearn.metrics import roc_auc_score\n",
    "from torch_geometric.utils import negative_sampling"
   ]
  },
  {
   "cell_type": "code",
   "execution_count": 63,
   "id": "d2b10342",
   "metadata": {},
   "outputs": [],
   "source": [
    "edges_df = pd.read_csv(\"./wits2/tmp/2011/el_no_missing.csv\")\n",
    "locations_df = pd.read_csv(\"./wits2/data/common/locations.csv\")\n",
    "nodes_df = pd.read_csv(\"./wits2/tmp/2011/nl_no_missing.csv\")"
   ]
  },
  {
   "cell_type": "code",
   "execution_count": 65,
   "id": "45415da9",
   "metadata": {},
   "outputs": [],
   "source": [
    "edges_df = pd.read_csv(\"./wits2/data/2011/edgelist_threshold.csv\")"
   ]
  },
  {
   "cell_type": "code",
   "execution_count": 66,
   "id": "b74a87b1",
   "metadata": {},
   "outputs": [
    {
     "data": {
      "text/html": [
       "<div>\n",
       "<style scoped>\n",
       "    .dataframe tbody tr th:only-of-type {\n",
       "        vertical-align: middle;\n",
       "    }\n",
       "\n",
       "    .dataframe tbody tr th {\n",
       "        vertical-align: top;\n",
       "    }\n",
       "\n",
       "    .dataframe thead th {\n",
       "        text-align: right;\n",
       "    }\n",
       "</style>\n",
       "<table border=\"1\" class=\"dataframe\">\n",
       "  <thead>\n",
       "    <tr style=\"text-align: right;\">\n",
       "      <th></th>\n",
       "      <th>source</th>\n",
       "      <th>target</th>\n",
       "      <th>weight</th>\n",
       "    </tr>\n",
       "  </thead>\n",
       "  <tbody>\n",
       "    <tr>\n",
       "      <th>0</th>\n",
       "      <td>MEX</td>\n",
       "      <td>COL</td>\n",
       "      <td>5.628647e+06</td>\n",
       "    </tr>\n",
       "    <tr>\n",
       "      <th>1</th>\n",
       "      <td>MEX</td>\n",
       "      <td>CAN</td>\n",
       "      <td>1.043998e+07</td>\n",
       "    </tr>\n",
       "    <tr>\n",
       "      <th>2</th>\n",
       "      <td>MEX</td>\n",
       "      <td>PRT</td>\n",
       "      <td>3.321739e+05</td>\n",
       "    </tr>\n",
       "    <tr>\n",
       "      <th>3</th>\n",
       "      <td>MEX</td>\n",
       "      <td>ARE</td>\n",
       "      <td>3.532589e+05</td>\n",
       "    </tr>\n",
       "    <tr>\n",
       "      <th>4</th>\n",
       "      <td>MEX</td>\n",
       "      <td>HND</td>\n",
       "      <td>4.997932e+05</td>\n",
       "    </tr>\n",
       "    <tr>\n",
       "      <th>...</th>\n",
       "      <td>...</td>\n",
       "      <td>...</td>\n",
       "      <td>...</td>\n",
       "    </tr>\n",
       "    <tr>\n",
       "      <th>3412</th>\n",
       "      <td>BIH</td>\n",
       "      <td>AUT</td>\n",
       "      <td>4.402657e+05</td>\n",
       "    </tr>\n",
       "    <tr>\n",
       "      <th>3413</th>\n",
       "      <td>BIH</td>\n",
       "      <td>ITA</td>\n",
       "      <td>6.855669e+05</td>\n",
       "    </tr>\n",
       "    <tr>\n",
       "      <th>3414</th>\n",
       "      <td>BIH</td>\n",
       "      <td>SVN</td>\n",
       "      <td>5.028449e+05</td>\n",
       "    </tr>\n",
       "    <tr>\n",
       "      <th>3415</th>\n",
       "      <td>BIH</td>\n",
       "      <td>HRV</td>\n",
       "      <td>8.568068e+05</td>\n",
       "    </tr>\n",
       "    <tr>\n",
       "      <th>3416</th>\n",
       "      <td>BIH</td>\n",
       "      <td>DEU</td>\n",
       "      <td>8.626393e+05</td>\n",
       "    </tr>\n",
       "  </tbody>\n",
       "</table>\n",
       "<p>3417 rows × 3 columns</p>\n",
       "</div>"
      ],
      "text/plain": [
       "     source target        weight\n",
       "0       MEX    COL  5.628647e+06\n",
       "1       MEX    CAN  1.043998e+07\n",
       "2       MEX    PRT  3.321739e+05\n",
       "3       MEX    ARE  3.532589e+05\n",
       "4       MEX    HND  4.997932e+05\n",
       "...     ...    ...           ...\n",
       "3412    BIH    AUT  4.402657e+05\n",
       "3413    BIH    ITA  6.855669e+05\n",
       "3414    BIH    SVN  5.028449e+05\n",
       "3415    BIH    HRV  8.568068e+05\n",
       "3416    BIH    DEU  8.626393e+05\n",
       "\n",
       "[3417 rows x 3 columns]"
      ]
     },
     "execution_count": 66,
     "metadata": {},
     "output_type": "execute_result"
    }
   ],
   "source": [
    "edges_df"
   ]
  },
  {
   "cell_type": "code",
   "execution_count": 67,
   "id": "01a485ab",
   "metadata": {},
   "outputs": [],
   "source": [
    "#nodes_df.set_index('country_iso3', inplace=True)"
   ]
  },
  {
   "cell_type": "code",
   "execution_count": 68,
   "id": "05fef40f",
   "metadata": {},
   "outputs": [
    {
     "data": {
      "text/html": [
       "<div>\n",
       "<style scoped>\n",
       "    .dataframe tbody tr th:only-of-type {\n",
       "        vertical-align: middle;\n",
       "    }\n",
       "\n",
       "    .dataframe tbody tr th {\n",
       "        vertical-align: top;\n",
       "    }\n",
       "\n",
       "    .dataframe thead th {\n",
       "        text-align: right;\n",
       "    }\n",
       "</style>\n",
       "<table border=\"1\" class=\"dataframe\">\n",
       "  <thead>\n",
       "    <tr style=\"text-align: right;\">\n",
       "      <th></th>\n",
       "      <th>country_iso3</th>\n",
       "      <th>gdp_us_dollar</th>\n",
       "      <th>inflation_rate</th>\n",
       "      <th>gdp_growth</th>\n",
       "      <th>area</th>\n",
       "      <th>landlocked</th>\n",
       "      <th>continent</th>\n",
       "      <th>langoff_1</th>\n",
       "      <th>population</th>\n",
       "      <th>gdp_per_capita</th>\n",
       "      <th>agriculture_forestry_fishing_of_gdp</th>\n",
       "      <th>industry_of_gdp</th>\n",
       "      <th>merchandise_of_gdp</th>\n",
       "      <th>net_barter_of_trade</th>\n",
       "      <th>foreign_direct_investment_inflows</th>\n",
       "    </tr>\n",
       "  </thead>\n",
       "  <tbody>\n",
       "    <tr>\n",
       "      <th>0</th>\n",
       "      <td>AFG</td>\n",
       "      <td>1.780429e+10</td>\n",
       "      <td>11.804186</td>\n",
       "      <td>0.426355</td>\n",
       "      <td>652225</td>\n",
       "      <td>1</td>\n",
       "      <td>Asia</td>\n",
       "      <td>Persian</td>\n",
       "      <td>30117411</td>\n",
       "      <td>591.162798</td>\n",
       "      <td>23.743664</td>\n",
       "      <td>22.740252</td>\n",
       "      <td>38.704149</td>\n",
       "      <td>144.751869</td>\n",
       "      <td>5.217342e+07</td>\n",
       "    </tr>\n",
       "    <tr>\n",
       "      <th>1</th>\n",
       "      <td>AGO</td>\n",
       "      <td>1.117897e+11</td>\n",
       "      <td>13.482468</td>\n",
       "      <td>3.471976</td>\n",
       "      <td>1246700</td>\n",
       "      <td>0</td>\n",
       "      <td>Africa</td>\n",
       "      <td>Portuguese</td>\n",
       "      <td>24220660</td>\n",
       "      <td>4615.468219</td>\n",
       "      <td>5.845681</td>\n",
       "      <td>56.026515</td>\n",
       "      <td>78.305971</td>\n",
       "      <td>244.329152</td>\n",
       "      <td>-3.023771e+09</td>\n",
       "    </tr>\n",
       "    <tr>\n",
       "      <th>2</th>\n",
       "      <td>ALB</td>\n",
       "      <td>1.289077e+10</td>\n",
       "      <td>3.429123</td>\n",
       "      <td>2.545322</td>\n",
       "      <td>28748</td>\n",
       "      <td>0</td>\n",
       "      <td>Europe</td>\n",
       "      <td>Albanian</td>\n",
       "      <td>2905195</td>\n",
       "      <td>4437.142885</td>\n",
       "      <td>18.226765</td>\n",
       "      <td>24.484408</td>\n",
       "      <td>56.862411</td>\n",
       "      <td>94.337202</td>\n",
       "      <td>1.048707e+09</td>\n",
       "    </tr>\n",
       "    <tr>\n",
       "      <th>3</th>\n",
       "      <td>ARE</td>\n",
       "      <td>3.506660e+11</td>\n",
       "      <td>0.877347</td>\n",
       "      <td>6.930272</td>\n",
       "      <td>83657</td>\n",
       "      <td>0</td>\n",
       "      <td>Asia</td>\n",
       "      <td>Arabic</td>\n",
       "      <td>8946778</td>\n",
       "      <td>39194.672240</td>\n",
       "      <td>0.671910</td>\n",
       "      <td>58.035599</td>\n",
       "      <td>151.702461</td>\n",
       "      <td>176.149781</td>\n",
       "      <td>7.152096e+09</td>\n",
       "    </tr>\n",
       "    <tr>\n",
       "      <th>4</th>\n",
       "      <td>ARG</td>\n",
       "      <td>5.301633e+11</td>\n",
       "      <td>9.800000</td>\n",
       "      <td>6.003952</td>\n",
       "      <td>2766889</td>\n",
       "      <td>0</td>\n",
       "      <td>America</td>\n",
       "      <td>Spanish</td>\n",
       "      <td>41261490</td>\n",
       "      <td>12848.864197</td>\n",
       "      <td>6.998734</td>\n",
       "      <td>25.212698</td>\n",
       "      <td>29.871929</td>\n",
       "      <td>160.564925</td>\n",
       "      <td>1.083993e+10</td>\n",
       "    </tr>\n",
       "    <tr>\n",
       "      <th>...</th>\n",
       "      <td>...</td>\n",
       "      <td>...</td>\n",
       "      <td>...</td>\n",
       "      <td>...</td>\n",
       "      <td>...</td>\n",
       "      <td>...</td>\n",
       "      <td>...</td>\n",
       "      <td>...</td>\n",
       "      <td>...</td>\n",
       "      <td>...</td>\n",
       "      <td>...</td>\n",
       "      <td>...</td>\n",
       "      <td>...</td>\n",
       "      <td>...</td>\n",
       "      <td>...</td>\n",
       "    </tr>\n",
       "    <tr>\n",
       "      <th>161</th>\n",
       "      <td>WSM</td>\n",
       "      <td>7.374017e+08</td>\n",
       "      <td>5.235416</td>\n",
       "      <td>4.173393</td>\n",
       "      <td>2842</td>\n",
       "      <td>0</td>\n",
       "      <td>Pacific</td>\n",
       "      <td>Samoan</td>\n",
       "      <td>187469</td>\n",
       "      <td>3933.459357</td>\n",
       "      <td>8.836995</td>\n",
       "      <td>18.584138</td>\n",
       "      <td>55.871854</td>\n",
       "      <td>80.565436</td>\n",
       "      <td>8.984743e+06</td>\n",
       "    </tr>\n",
       "    <tr>\n",
       "      <th>162</th>\n",
       "      <td>YEM</td>\n",
       "      <td>3.272642e+10</td>\n",
       "      <td>19.543562</td>\n",
       "      <td>-12.714823</td>\n",
       "      <td>547244</td>\n",
       "      <td>0</td>\n",
       "      <td>Asia</td>\n",
       "      <td>Arabic</td>\n",
       "      <td>23807586</td>\n",
       "      <td>1374.621401</td>\n",
       "      <td>8.533169</td>\n",
       "      <td>46.466096</td>\n",
       "      <td>64.046119</td>\n",
       "      <td>171.430685</td>\n",
       "      <td>-5.178429e+08</td>\n",
       "    </tr>\n",
       "    <tr>\n",
       "      <th>163</th>\n",
       "      <td>ZAF</td>\n",
       "      <td>4.164189e+11</td>\n",
       "      <td>5.017158</td>\n",
       "      <td>3.284168</td>\n",
       "      <td>1219912</td>\n",
       "      <td>0</td>\n",
       "      <td>Africa</td>\n",
       "      <td>English</td>\n",
       "      <td>52003759</td>\n",
       "      <td>8007.476439</td>\n",
       "      <td>2.285473</td>\n",
       "      <td>26.942540</td>\n",
       "      <td>56.012110</td>\n",
       "      <td>146.294834</td>\n",
       "      <td>4.139289e+09</td>\n",
       "    </tr>\n",
       "    <tr>\n",
       "      <th>164</th>\n",
       "      <td>ZMB</td>\n",
       "      <td>2.345952e+10</td>\n",
       "      <td>6.429397</td>\n",
       "      <td>5.564602</td>\n",
       "      <td>752614</td>\n",
       "      <td>1</td>\n",
       "      <td>Africa</td>\n",
       "      <td>English</td>\n",
       "      <td>14023199</td>\n",
       "      <td>1672.907535</td>\n",
       "      <td>9.648058</td>\n",
       "      <td>34.444282</td>\n",
       "      <td>68.965619</td>\n",
       "      <td>197.447040</td>\n",
       "      <td>1.108500e+09</td>\n",
       "    </tr>\n",
       "    <tr>\n",
       "      <th>165</th>\n",
       "      <td>ZWE</td>\n",
       "      <td>1.410192e+10</td>\n",
       "      <td>3.466130</td>\n",
       "      <td>14.193913</td>\n",
       "      <td>390759</td>\n",
       "      <td>1</td>\n",
       "      <td>Africa</td>\n",
       "      <td>English</td>\n",
       "      <td>12894323</td>\n",
       "      <td>1093.653409</td>\n",
       "      <td>8.665865</td>\n",
       "      <td>21.720292</td>\n",
       "      <td>81.520812</td>\n",
       "      <td>111.413525</td>\n",
       "      <td>3.443000e+08</td>\n",
       "    </tr>\n",
       "  </tbody>\n",
       "</table>\n",
       "<p>166 rows × 15 columns</p>\n",
       "</div>"
      ],
      "text/plain": [
       "    country_iso3  gdp_us_dollar  inflation_rate  gdp_growth     area  \\\n",
       "0            AFG   1.780429e+10       11.804186    0.426355   652225   \n",
       "1            AGO   1.117897e+11       13.482468    3.471976  1246700   \n",
       "2            ALB   1.289077e+10        3.429123    2.545322    28748   \n",
       "3            ARE   3.506660e+11        0.877347    6.930272    83657   \n",
       "4            ARG   5.301633e+11        9.800000    6.003952  2766889   \n",
       "..           ...            ...             ...         ...      ...   \n",
       "161          WSM   7.374017e+08        5.235416    4.173393     2842   \n",
       "162          YEM   3.272642e+10       19.543562  -12.714823   547244   \n",
       "163          ZAF   4.164189e+11        5.017158    3.284168  1219912   \n",
       "164          ZMB   2.345952e+10        6.429397    5.564602   752614   \n",
       "165          ZWE   1.410192e+10        3.466130   14.193913   390759   \n",
       "\n",
       "     landlocked continent   langoff_1  population  gdp_per_capita  \\\n",
       "0             1      Asia     Persian    30117411      591.162798   \n",
       "1             0    Africa  Portuguese    24220660     4615.468219   \n",
       "2             0    Europe    Albanian     2905195     4437.142885   \n",
       "3             0      Asia      Arabic     8946778    39194.672240   \n",
       "4             0   America     Spanish    41261490    12848.864197   \n",
       "..          ...       ...         ...         ...             ...   \n",
       "161           0   Pacific      Samoan      187469     3933.459357   \n",
       "162           0      Asia      Arabic    23807586     1374.621401   \n",
       "163           0    Africa     English    52003759     8007.476439   \n",
       "164           1    Africa     English    14023199     1672.907535   \n",
       "165           1    Africa     English    12894323     1093.653409   \n",
       "\n",
       "     agriculture_forestry_fishing_of_gdp  industry_of_gdp  merchandise_of_gdp  \\\n",
       "0                              23.743664        22.740252           38.704149   \n",
       "1                               5.845681        56.026515           78.305971   \n",
       "2                              18.226765        24.484408           56.862411   \n",
       "3                               0.671910        58.035599          151.702461   \n",
       "4                               6.998734        25.212698           29.871929   \n",
       "..                                   ...              ...                 ...   \n",
       "161                             8.836995        18.584138           55.871854   \n",
       "162                             8.533169        46.466096           64.046119   \n",
       "163                             2.285473        26.942540           56.012110   \n",
       "164                             9.648058        34.444282           68.965619   \n",
       "165                             8.665865        21.720292           81.520812   \n",
       "\n",
       "     net_barter_of_trade  foreign_direct_investment_inflows  \n",
       "0             144.751869                       5.217342e+07  \n",
       "1             244.329152                      -3.023771e+09  \n",
       "2              94.337202                       1.048707e+09  \n",
       "3             176.149781                       7.152096e+09  \n",
       "4             160.564925                       1.083993e+10  \n",
       "..                   ...                                ...  \n",
       "161            80.565436                       8.984743e+06  \n",
       "162           171.430685                      -5.178429e+08  \n",
       "163           146.294834                       4.139289e+09  \n",
       "164           197.447040                       1.108500e+09  \n",
       "165           111.413525                       3.443000e+08  \n",
       "\n",
       "[166 rows x 15 columns]"
      ]
     },
     "execution_count": 68,
     "metadata": {},
     "output_type": "execute_result"
    }
   ],
   "source": [
    "nodes_df"
   ]
  },
  {
   "cell_type": "code",
   "execution_count": 70,
   "id": "d9b22c0f",
   "metadata": {},
   "outputs": [],
   "source": [
    "attribute_dict = nodes_df.set_index('country_iso3')['gdp_us_dollar'].to_dict()\n"
   ]
  },
  {
   "cell_type": "code",
   "execution_count": 71,
   "id": "a0547ccb",
   "metadata": {},
   "outputs": [],
   "source": [
    "#Drop edges that specify internal trade\n",
    "edges_df.drop(edges_df[edges_df['source'] == edges_df['target']].index, inplace=True)"
   ]
  },
  {
   "cell_type": "code",
   "execution_count": 72,
   "id": "0c4e8c3d",
   "metadata": {},
   "outputs": [],
   "source": [
    "nodes_df = pd.merge(left=nodes_df, right=locations_df, how='inner', left_on='country_iso3', right_on='Alpha-3code')\n",
    "countries = nodes_df['country_iso3'].unique()"
   ]
  },
  {
   "cell_type": "code",
   "execution_count": 26,
   "id": "aa43eda9",
   "metadata": {},
   "outputs": [
    {
     "name": "stderr",
     "output_type": "stream",
     "text": [
      "C:\\Users\\kevijone\\AppData\\Local\\Temp\\ipykernel_42704\\3559632128.py:8: FutureWarning: Calling float on a single element Series is deprecated and will raise a TypeError in the future. Use float(ser.iloc[0]) instead\n",
      "  trade_data[i, j] += temp['weight']\n",
      "C:\\Users\\kevijone\\AppData\\Local\\Temp\\ipykernel_42704\\3559632128.py:9: FutureWarning: Calling float on a single element Series is deprecated and will raise a TypeError in the future. Use float(ser.iloc[0]) instead\n",
      "  trade_data[j, i] += temp['weight']\n"
     ]
    }
   ],
   "source": [
    "trade_data = np.zeros((len(countries), len(countries)))\n",
    "for i in range(len(countries)):\n",
    "    for j in range(len(countries)):\n",
    "        temp = edges_df[\n",
    "            (edges_df['source'] == countries[i]) & (edges_df['target'] == countries[j])\n",
    "        ]\n",
    "        if temp.shape[0] != 0:\n",
    "            trade_data[i, j] += temp['weight']\n",
    "            trade_data[j, i] += temp['weight']"
   ]
  },
  {
   "cell_type": "code",
   "execution_count": 73,
   "id": "b0b62da5",
   "metadata": {},
   "outputs": [],
   "source": [
    "g = nx.from_pandas_edgelist(edges_df, source='source', target='target', edge_attr=True, create_using=nx.DiGraph)"
   ]
  },
  {
   "cell_type": "code",
   "execution_count": 74,
   "id": "e2798005",
   "metadata": {},
   "outputs": [],
   "source": [
    "nx.set_node_attributes(g, attribute_dict, 'gdp')\n"
   ]
  },
  {
   "cell_type": "code",
   "execution_count": 10,
   "id": "62549707",
   "metadata": {},
   "outputs": [],
   "source": [
    "el = pd.read_csv(\"./wits2/data/2011/edgelist_threshold.csv\")"
   ]
  },
  {
   "cell_type": "code",
   "execution_count": 77,
   "id": "8e16c5c6",
   "metadata": {},
   "outputs": [],
   "source": [
    "# Convert NetworkX graph to PyG Data object\n",
    "data = from_networkx(g, group_edge_attrs=['weight'], group_node_attrs=['gdp'])\n"
   ]
  },
  {
   "cell_type": "code",
   "execution_count": 78,
   "id": "352f6eb6",
   "metadata": {},
   "outputs": [
    {
     "data": {
      "text/plain": [
       "Data(edge_index=[2, 3417], x=[154, 1], edge_attr=[3417, 1])"
      ]
     },
     "execution_count": 78,
     "metadata": {},
     "output_type": "execute_result"
    }
   ],
   "source": [
    "data"
   ]
  },
  {
   "cell_type": "code",
   "execution_count": null,
   "id": "e9135312",
   "metadata": {},
   "outputs": [],
   "source": [
    "graph = to_networkx(data, node_attrs=[\"x\"])"
   ]
  },
  {
   "cell_type": "code",
   "execution_count": 81,
   "id": "003e5ea1",
   "metadata": {},
   "outputs": [
    {
     "data": {
      "image/png": "[encoded data removed]",
      "text/plain": [
       "<Figure size 640x480 with 1 Axes>"
      ]
     },
     "metadata": {},
     "output_type": "display_data"
    }
   ],
   "source": [
    "nx.draw_spring(graph, node_size=30, arrows=False)"
   ]
  },
  {
   "cell_type": "code",
   "execution_count": null,
   "id": "5b22f0ad",
   "metadata": {},
   "outputs": [],
   "source": [
    "class GCN(torch.nn.Module):\n",
    "    def __init__(self):\n",
    "        super().__init__()\n",
    "        self.conv1 = GCNConv(data.num_node_features, 16)\n",
    "        self.conv2 = GCNConv(16, data.num_classes)\n",
    "\n",
    "    def forward(self, data):\n",
    "        x, edge_index = data.x, data.edge_index\n",
    "\n",
    "        x = self.conv1(x, edge_index)\n",
    "        x = F.relu(x)\n",
    "        output = self.conv2(x, edge_index)\n",
    "\n",
    "        return output"
   ]
  },
  {
   "cell_type": "code",
   "execution_count": 84,
   "id": "77dbc340",
   "metadata": {},
   "outputs": [],
   "source": [
    "class Net(torch.nn.Module):\n",
    "    def __init__(self, in_channels, hidden_channels, out_channels):\n",
    "        super().__init__()\n",
    "        self.conv1 = GCNConv(in_channels, hidden_channels)\n",
    "        self.conv2 = GCNConv(hidden_channels, out_channels)\n",
    "\n",
    "    def encode(self, x, edge_index):\n",
    "        x = self.conv1(x, edge_index).relu()\n",
    "        return self.conv2(x, edge_index)\n",
    "\n",
    "    def decode(self, z, edge_label_index):\n",
    "        return (z[edge_label_index[0]] * z[edge_label_index[1]]).sum(\n",
    "            dim=-1\n",
    "        )  # product of a pair of nodes on each edge\n",
    "\n",
    "    def decode_all(self, z):\n",
    "        prob_adj = z @ z.t()\n",
    "        return (prob_adj > 0).nonzero(as_tuple=False).t()"
   ]
  },
  {
   "cell_type": "code",
   "execution_count": 85,
   "id": "b67bff5c",
   "metadata": {},
   "outputs": [],
   "source": [
    "def train_link_predictor(\n",
    "    model, train_data, val_data, optimizer, criterion, n_epochs=100\n",
    "):\n",
    "\n",
    "    for epoch in range(1, n_epochs + 1):\n",
    "\n",
    "        model.train()\n",
    "        optimizer.zero_grad()\n",
    "        z = model.encode(train_data.x, train_data.edge_index)\n",
    "\n",
    "        # sampling training negatives for every training epoch\n",
    "        neg_edge_index = negative_sampling(\n",
    "            edge_index=train_data.edge_index, num_nodes=train_data.num_nodes,\n",
    "            num_neg_samples=train_data.edge_label_index.size(1), method='sparse')\n",
    "\n",
    "        edge_label_index = torch.cat(\n",
    "            [train_data.edge_label_index, neg_edge_index],\n",
    "            dim=-1,\n",
    "        )\n",
    "        edge_label = torch.cat([\n",
    "            train_data.edge_label,\n",
    "            train_data.edge_label.new_zeros(neg_edge_index.size(1))\n",
    "        ], dim=0)\n",
    "\n",
    "        out = model.decode(z, edge_label_index).view(-1)\n",
    "        loss = criterion(out, edge_label)\n",
    "        loss.backward()\n",
    "        optimizer.step()\n",
    "\n",
    "        val_auc = eval_link_predictor(model, val_data)\n",
    "\n",
    "        if epoch % 10 == 0:\n",
    "            print(f\"Epoch: {epoch:03d}, Train Loss: {loss:.3f}, Val AUC: {val_auc:.3f}\")\n",
    "\n",
    "    return model"
   ]
  },
  {
   "cell_type": "code",
   "execution_count": 101,
   "id": "c3215704",
   "metadata": {},
   "outputs": [
    {
     "name": "stdout",
     "output_type": "stream",
     "text": [
      "Epoch: 010, Train Loss: 191027960415075684057088.000, Val AUC: 0.500\n",
      "Epoch: 020, Train Loss: 189370473622616756191232.000, Val AUC: 0.500\n",
      "Epoch: 030, Train Loss: 185941180664757727789056.000, Val AUC: 0.500\n",
      "Epoch: 040, Train Loss: 187487662733601227669504.000, Val AUC: 0.500\n",
      "Epoch: 050, Train Loss: 185926210699596348260352.000, Val AUC: 0.500\n",
      "Epoch: 060, Train Loss: 187921917824070800375808.000, Val AUC: 0.500\n",
      "Epoch: 070, Train Loss: 188435760527155264487424.000, Val AUC: 0.500\n",
      "Epoch: 080, Train Loss: 189203750364411500429312.000, Val AUC: 0.500\n",
      "Epoch: 090, Train Loss: 184978635323599086419968.000, Val AUC: 0.500\n",
      "Epoch: 100, Train Loss: 183386090437766841106432.000, Val AUC: 0.500\n",
      "Test: 0.500\n"
     ]
    }
   ],
   "source": [
    "model = Net(data.num_features, 128, 64)\n",
    "optimizer = torch.optim.Adam(params=model.parameters(), lr=0.01)\n",
    "criterion = torch.nn.BCEWithLogitsLoss()\n",
    "model = train_link_predictor(model, train_data, val_data, optimizer, criterion)\n",
    "\n",
    "test_auc = eval_link_predictor(model, test_data)\n",
    "print(f\"Test: {test_auc:.3f}\")"
   ]
  },
  {
   "cell_type": "code",
   "execution_count": 87,
   "id": "113d753e",
   "metadata": {},
   "outputs": [],
   "source": [
    "@torch.no_grad()\n",
    "def eval_link_predictor(model, data):\n",
    "\n",
    "    model.eval()\n",
    "    z = model.encode(data.x, data.edge_index)\n",
    "    out = model.decode(z, data.edge_label_index).view(-1).sigmoid()\n",
    "\n",
    "    return roc_auc_score(data.edge_label.cpu().numpy(), out.cpu().numpy())"
   ]
  },
  {
   "cell_type": "code",
   "execution_count": 97,
   "id": "2500bfe8",
   "metadata": {},
   "outputs": [],
   "source": [
    "split = T.RandomLinkSplit(\n",
    "    num_val=0.05,\n",
    "    num_test=0.1,\n",
    "    is_undirected=False,\n",
    "    add_negative_train_samples=False,\n",
    "    neg_sampling_ratio=1.0,\n",
    ")\n",
    "train_data, val_data, test_data = split(data)"
   ]
  },
  {
   "cell_type": "code",
   "execution_count": 98,
   "id": "037030f9",
   "metadata": {},
   "outputs": [
    {
     "data": {
      "text/plain": [
       "Data(edge_index=[2, 2906], x=[154, 1], edge_attr=[2906, 1], edge_label=[2906], edge_label_index=[2, 2906])"
      ]
     },
     "execution_count": 98,
     "metadata": {},
     "output_type": "execute_result"
    }
   ],
   "source": [
    "train_data"
   ]
  },
  {
   "cell_type": "code",
   "execution_count": 99,
   "id": "b0af03a7",
   "metadata": {},
   "outputs": [
    {
     "data": {
      "text/plain": [
       "Data(edge_index=[2, 2906], x=[154, 1], edge_attr=[2906, 1], edge_label=[340], edge_label_index=[2, 340])"
      ]
     },
     "execution_count": 99,
     "metadata": {},
     "output_type": "execute_result"
    }
   ],
   "source": [
    "val_data\n"
   ]
  },
  {
   "cell_type": "code",
   "execution_count": 100,
   "id": "40729be3",
   "metadata": {},
   "outputs": [
    {
     "data": {
      "text/plain": [
       "Data(edge_index=[2, 3076], x=[154, 1], edge_attr=[3076, 1], edge_label=[682], edge_label_index=[2, 682])"
      ]
     },
     "execution_count": 100,
     "metadata": {},
     "output_type": "execute_result"
    }
   ],
   "source": [
    "test_data"
   ]
  }
 ],
 "metadata": {
  "kernelspec": {
   "display_name": "Python 3",
   "language": "python",
   "name": "python3"
  },
  "language_info": {
   "codemirror_mode": {
    "name": "ipython",
    "version": 3
   },
   "file_extension": ".py",
   "mimetype": "text/x-python",
   "name": "python",
   "nbconvert_exporter": "python",
   "pygments_lexer": "ipython3",
   "version": "3.13.3"
  }
 },
 "nbformat": 4,
 "nbformat_minor": 5
}
